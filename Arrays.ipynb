{
 "cells": [
  {
   "cell_type": "markdown",
   "metadata": {},
   "source": [
    "### 5 Arrays"
   ]
  },
  {
   "cell_type": "markdown",
   "metadata": {},
   "source": [
    "##### Even-odd\n",
    "When working with arrays you should take advantage of the fact you can operate efficiently on both end.\n",
    "For this task we separate array in three subarrays: Even, Unclassified, Odd."
   ]
  },
  {
   "cell_type": "code",
   "execution_count": 13,
   "metadata": {},
   "outputs": [],
   "source": [
    "def even_odd(A):\n",
    "    next_even, next_odd = 0, len(A) - 1\n",
    "    while next_even < next_odd:\n",
    "        if A[next_even] % 2 == 0:\n",
    "            next_even += 1\n",
    "        else:\n",
    "            A[next_even], A[next_odd] = A[next_odd], A[next_even]\n",
    "            next_odd -= 1"
   ]
  },
  {
   "cell_type": "code",
   "execution_count": 14,
   "metadata": {},
   "outputs": [
    {
     "name": "stdout",
     "output_type": "stream",
     "text": [
      "[8, 4, 4, 2, 17, 9, 15, 1]\n"
     ]
    }
   ],
   "source": [
    "#test even_odd \n",
    "a = [1,4,4,2, 17,8,9,15]\n",
    "even_odd(a)\n",
    "print(a)"
   ]
  },
  {
   "cell_type": "markdown",
   "metadata": {},
   "source": [
    "Some notes about arrays in Python\n",
    " - Copy of arrays\n",
    " - Key methods\n",
    " - Slicing\n",
    " - List comprehension"
   ]
  },
  {
   "cell_type": "markdown",
   "metadata": {},
   "source": [
    "##### The Dutch national flag problem\n",
    "Quicksort algorithm. Chose \"pivot\" and reorde the array to make all elements less than or equal to the pivot appear first, followed by all the elements greater than pivot.\n",
    "We need 4 subarrays: bottom, middle, unclassified, and top relative to pivot, we itterate through unclassified elements and move them. "
   ]
  },
  {
   "cell_type": "code",
   "execution_count": 6,
   "metadata": {},
   "outputs": [],
   "source": [
    "def quicksort_with_pivot(A, pivot_index):\n",
    "    pivot = A[pivot_index]\n",
    "    # bottom group A[:smaller]\n",
    "    # middle group A[smaller:equal]\n",
    "    # unclassified group A[equal:larger]\n",
    "    # top group A[larger:]\n",
    "    smaller, equal, larger = 0, 0, len(A)\n",
    "    #iterating as long as there is unclassified element\n",
    "    while equal < larger:\n",
    "        # A[equal] is the current unclassified element\n",
    "        if A[equal] < pivot:\n",
    "            A[smaller], A[equal] = A[equal], A[smaller]\n",
    "            smaller, equal = smaller + 1, equal + 1\n",
    "        elif A[equal] == pivot:\n",
    "            equal += 1\n",
    "        else: \n",
    "            larger -= 1\n",
    "            A[equal], A[larger] = A[larger], A[equal]"
   ]
  },
  {
   "cell_type": "markdown",
   "metadata": {},
   "source": [
    "Each iteration decreases the size of unclassified by 1, and the time spent within each iteration is O(1), implying time complexity is O(n). The space complexity is clearly O(1)"
   ]
  },
  {
   "cell_type": "code",
   "execution_count": 8,
   "metadata": {},
   "outputs": [
    {
     "name": "stdout",
     "output_type": "stream",
     "text": [
      "[0, 0, 2, 1, 2, 1, 1]\n"
     ]
    }
   ],
   "source": [
    "#test quicksort with pivot\n",
    "\n",
    "a = [0, 1 , 0, 2, 1, 2, 1]\n",
    "quicksort_with_pivot(a, 2)\n",
    "print(a)"
   ]
  },
  {
   "cell_type": "markdown",
   "metadata": {},
   "source": [
    "Variant 1: Assuming that keys take one of three values, reorder the array so that all objects with same key appear together. the order of the subarrays is not important."
   ]
  },
  {
   "cell_type": "code",
   "execution_count": null,
   "metadata": {},
   "outputs": [],
   "source": []
  },
  {
   "cell_type": "code",
   "execution_count": null,
   "metadata": {},
   "outputs": [],
   "source": []
  },
  {
   "cell_type": "code",
   "execution_count": null,
   "metadata": {},
   "outputs": [],
   "source": []
  },
  {
   "cell_type": "code",
   "execution_count": null,
   "metadata": {},
   "outputs": [],
   "source": []
  },
  {
   "cell_type": "code",
   "execution_count": null,
   "metadata": {},
   "outputs": [],
   "source": []
  },
  {
   "cell_type": "code",
   "execution_count": null,
   "metadata": {},
   "outputs": [],
   "source": []
  },
  {
   "cell_type": "code",
   "execution_count": null,
   "metadata": {},
   "outputs": [],
   "source": []
  }
 ],
 "metadata": {
  "kernelspec": {
   "display_name": "Python 3",
   "language": "python",
   "name": "python3"
  },
  "language_info": {
   "codemirror_mode": {
    "name": "ipython",
    "version": 3
   },
   "file_extension": ".py",
   "mimetype": "text/x-python",
   "name": "python",
   "nbconvert_exporter": "python",
   "pygments_lexer": "ipython3",
   "version": "3.7.5"
  }
 },
 "nbformat": 4,
 "nbformat_minor": 2
}
